{
 "cells": [
  {
   "cell_type": "markdown",
   "metadata": {},
   "source": [
    "## Dataset Breast Cancer"
   ]
  },
  {
   "cell_type": "markdown",
   "metadata": {},
   "source": [
    "### Import Library"
   ]
  },
  {
   "cell_type": "code",
   "execution_count": 35,
   "metadata": {},
   "outputs": [],
   "source": [
    "import six\n",
    "import sys\n",
    "sys.modules['sklearn.externals.six'] = six\n",
    "# import os\n",
    "# os.environ[\"PATH\"] += os.pathsep + 'C:/Program Files (x86)/Graphviz/bin/'\n",
    "import pydotplus\n",
    "import graphviz\n",
    "from sklearn.datasets import load_breast_cancer\n",
    "from sklearn.model_selection import train_test_split\n",
    "from id3 import Id3Estimator\n",
    "from sklearn.cluster import KMeans\n",
    "from sklearn.linear_model import LogisticRegression\n",
    "from sklearn.neural_network import MLPClassifier\n",
    "from sklearn.datasets import make_classification\n",
    "from sklearn.model_selection import train_test_split\n",
    "from sklearn.pipeline import make_pipeline\n",
    "from sklearn.preprocessing import StandardScaler\n",
    "from sklearn.svm import SVC\n",
    "from sklearn.metrics import accuracy_score, f1_score\n",
    "from sklearn.preprocessing import LabelEncoder\n",
    "import pandas as pd"
   ]
  },
  {
   "cell_type": "markdown",
   "metadata": {},
   "source": [
    "### Load Dataset"
   ]
  },
  {
   "cell_type": "code",
   "execution_count": 36,
   "metadata": {},
   "outputs": [],
   "source": [
    "breast_cancer = load_breast_cancer()\n",
    "\n",
    "X = breast_cancer.data\n",
    "y = breast_cancer.target"
   ]
  },
  {
   "cell_type": "markdown",
   "metadata": {},
   "source": [
    "### Splitting Dataset"
   ]
  },
  {
   "cell_type": "code",
   "execution_count": 37,
   "metadata": {},
   "outputs": [],
   "source": [
    "X_train_set, X_test_set, y_train_set, y_test_set = train_test_split(X, y, test_size = 0.2)"
   ]
  },
  {
   "cell_type": "markdown",
   "metadata": {},
   "source": [
    "### Training Dataset\n",
    "#### a. DecisionTreeClassifier"
   ]
  },
  {
   "cell_type": "code",
   "execution_count": 38,
   "metadata": {
    "scrolled": true
   },
   "outputs": [
    {
     "name": "stdout",
     "output_type": "stream",
     "text": [
      "|--- worst radius <= 16.80\n",
      "|   |--- worst concave points <= 0.16\n",
      "|   |   |--- worst concave points <= 0.14\n",
      "|   |   |   |--- worst fractal dimension <= 0.06\n",
      "|   |   |   |   |--- class: 0\n",
      "|   |   |   |--- worst fractal dimension >  0.06\n",
      "|   |   |   |   |--- radius error <= 0.64\n",
      "|   |   |   |   |   |--- smoothness error <= 0.00\n",
      "|   |   |   |   |   |   |--- mean texture <= 19.88\n",
      "|   |   |   |   |   |   |   |--- class: 1\n",
      "|   |   |   |   |   |   |--- mean texture >  19.88\n",
      "|   |   |   |   |   |   |   |--- class: 0\n",
      "|   |   |   |   |   |--- smoothness error >  0.00\n",
      "|   |   |   |   |   |   |--- mean concavity <= 0.12\n",
      "|   |   |   |   |   |   |   |--- worst texture <= 33.35\n",
      "|   |   |   |   |   |   |   |   |--- class: 1\n",
      "|   |   |   |   |   |   |   |--- worst texture >  33.35\n",
      "|   |   |   |   |   |   |   |   |--- worst texture <= 33.56\n",
      "|   |   |   |   |   |   |   |   |   |--- class: 0\n",
      "|   |   |   |   |   |   |   |   |--- worst texture >  33.56\n",
      "|   |   |   |   |   |   |   |   |   |--- class: 1\n",
      "|   |   |   |   |   |   |--- mean concavity >  0.12\n",
      "|   |   |   |   |   |   |   |--- compactness error <= 0.04\n",
      "|   |   |   |   |   |   |   |   |--- class: 0\n",
      "|   |   |   |   |   |   |   |--- compactness error >  0.04\n",
      "|   |   |   |   |   |   |   |   |--- class: 1\n",
      "|   |   |   |   |--- radius error >  0.64\n",
      "|   |   |   |   |   |--- mean smoothness <= 0.09\n",
      "|   |   |   |   |   |   |--- class: 1\n",
      "|   |   |   |   |   |--- mean smoothness >  0.09\n",
      "|   |   |   |   |   |   |--- class: 0\n",
      "|   |   |--- worst concave points >  0.14\n",
      "|   |   |   |--- worst texture <= 28.78\n",
      "|   |   |   |   |--- worst concave points <= 0.14\n",
      "|   |   |   |   |   |--- worst compactness <= 0.36\n",
      "|   |   |   |   |   |   |--- class: 0\n",
      "|   |   |   |   |   |--- worst compactness >  0.36\n",
      "|   |   |   |   |   |   |--- class: 1\n",
      "|   |   |   |   |--- worst concave points >  0.14\n",
      "|   |   |   |   |   |--- class: 1\n",
      "|   |   |   |--- worst texture >  28.78\n",
      "|   |   |   |   |--- class: 0\n",
      "|   |--- worst concave points >  0.16\n",
      "|   |   |--- area error <= 18.10\n",
      "|   |   |   |--- worst texture <= 28.01\n",
      "|   |   |   |   |--- class: 1\n",
      "|   |   |   |--- worst texture >  28.01\n",
      "|   |   |   |   |--- class: 0\n",
      "|   |   |--- area error >  18.10\n",
      "|   |   |   |--- class: 0\n",
      "|--- worst radius >  16.80\n",
      "|   |--- worst texture <= 19.91\n",
      "|   |   |--- mean concave points <= 0.07\n",
      "|   |   |   |--- class: 1\n",
      "|   |   |--- mean concave points >  0.07\n",
      "|   |   |   |--- class: 0\n",
      "|   |--- worst texture >  19.91\n",
      "|   |   |--- worst concavity <= 0.18\n",
      "|   |   |   |--- fractal dimension error <= 0.00\n",
      "|   |   |   |   |--- class: 1\n",
      "|   |   |   |--- fractal dimension error >  0.00\n",
      "|   |   |   |   |--- class: 0\n",
      "|   |   |--- worst concavity >  0.18\n",
      "|   |   |   |--- class: 0\n",
      "\n"
     ]
    }
   ],
   "source": [
    "from sklearn.tree import DecisionTreeClassifier, export_text, export_graphviz\n",
    "\n",
    "model = DecisionTreeClassifier(random_state=0)\n",
    "\n",
    "model.fit(X_train_set, y_train_set)\n",
    "\n",
    "DTL_prediction = model.predict(X_test_set)\n",
    "\n",
    "array_feature_name = []\n",
    "for i in range(len(breast_cancer[\"feature_names\"])):\n",
    "    array_feature_name.append(breast_cancer[\"feature_names\"][i])\n",
    "\n",
    "r = export_text(model, feature_names=array_feature_name)\n",
    "print(r)"
   ]
  },
  {
   "cell_type": "code",
   "execution_count": 40,
   "metadata": {},
   "outputs": [
    {
     "ename": "InvocationException",
     "evalue": "GraphViz's executables not found",
     "output_type": "error",
     "traceback": [
      "\u001b[1;31m---------------------------------------------------------------------------\u001b[0m",
      "\u001b[1;31mInvocationException\u001b[0m                       Traceback (most recent call last)",
      "\u001b[1;32m<ipython-input-40-8e5b98db1a1e>\u001b[0m in \u001b[0;36m<module>\u001b[1;34m\u001b[0m\n\u001b[0;32m      7\u001b[0m \u001b[1;33m\u001b[0m\u001b[0m\n\u001b[0;32m      8\u001b[0m \u001b[0mpydot_graph\u001b[0m \u001b[1;33m=\u001b[0m \u001b[0mpydotplus\u001b[0m\u001b[1;33m.\u001b[0m\u001b[0mgraph_from_dot_data\u001b[0m\u001b[1;33m(\u001b[0m\u001b[0mdot_graph\u001b[0m\u001b[1;33m)\u001b[0m\u001b[1;33m\u001b[0m\u001b[1;33m\u001b[0m\u001b[0m\n\u001b[1;32m----> 9\u001b[1;33m \u001b[0mpydot_graph\u001b[0m\u001b[1;33m.\u001b[0m\u001b[0mwrite_pdf\u001b[0m\u001b[1;33m(\u001b[0m\u001b[1;34m'dtl_tree_breast_cancer.pdf'\u001b[0m\u001b[1;33m)\u001b[0m\u001b[1;33m\u001b[0m\u001b[1;33m\u001b[0m\u001b[0m\n\u001b[0m\u001b[0;32m     10\u001b[0m \u001b[1;33m\u001b[0m\u001b[0m\n\u001b[0;32m     11\u001b[0m \u001b[0mgraph_dtl\u001b[0m\u001b[1;33m\u001b[0m\u001b[1;33m\u001b[0m\u001b[0m\n",
      "\u001b[1;32mC:\\ProgramData\\Anaconda3\\lib\\site-packages\\pydotplus\\graphviz.py\u001b[0m in \u001b[0;36m<lambda>\u001b[1;34m(path, f, prog)\u001b[0m\n\u001b[0;32m   1808\u001b[0m             f.__doc__ = (\n\u001b[0;32m   1809\u001b[0m                 \u001b[1;34m'''Refer to the docstring accompanying the'''\u001b[0m\u001b[1;33m\u001b[0m\u001b[1;33m\u001b[0m\u001b[0m\n\u001b[1;32m-> 1810\u001b[1;33m                 \u001b[1;34m''''write' method for more information.'''\u001b[0m\u001b[1;33m\u001b[0m\u001b[1;33m\u001b[0m\u001b[0m\n\u001b[0m\u001b[0;32m   1811\u001b[0m             )\n\u001b[0;32m   1812\u001b[0m \u001b[1;33m\u001b[0m\u001b[0m\n",
      "\u001b[1;32mC:\\ProgramData\\Anaconda3\\lib\\site-packages\\pydotplus\\graphviz.py\u001b[0m in \u001b[0;36mwrite\u001b[1;34m(self, path, prog, format)\u001b[0m\n\u001b[0;32m   1916\u001b[0m \u001b[1;33m\u001b[0m\u001b[0m\n\u001b[0;32m   1917\u001b[0m         \u001b[1;32mreturn\u001b[0m \u001b[1;32mTrue\u001b[0m\u001b[1;33m\u001b[0m\u001b[1;33m\u001b[0m\u001b[0m\n\u001b[1;32m-> 1918\u001b[1;33m \u001b[1;33m\u001b[0m\u001b[0m\n\u001b[0m\u001b[0;32m   1919\u001b[0m     \u001b[1;32mdef\u001b[0m \u001b[0mcreate\u001b[0m\u001b[1;33m(\u001b[0m\u001b[0mself\u001b[0m\u001b[1;33m,\u001b[0m \u001b[0mprog\u001b[0m\u001b[1;33m=\u001b[0m\u001b[1;32mNone\u001b[0m\u001b[1;33m,\u001b[0m \u001b[0mformat\u001b[0m\u001b[1;33m=\u001b[0m\u001b[1;34m'ps'\u001b[0m\u001b[1;33m)\u001b[0m\u001b[1;33m:\u001b[0m\u001b[1;33m\u001b[0m\u001b[1;33m\u001b[0m\u001b[0m\n\u001b[0;32m   1920\u001b[0m         \"\"\"Creates and returns a Postscript representation of the graph.\n",
      "\u001b[1;32mC:\\ProgramData\\Anaconda3\\lib\\site-packages\\pydotplus\\graphviz.py\u001b[0m in \u001b[0;36mcreate\u001b[1;34m(self, prog, format)\u001b[0m\n\u001b[0;32m   1957\u001b[0m             raise InvocationException(\n\u001b[0;32m   1958\u001b[0m                 'GraphViz\\'s executable \"%s\" not found' % prog)\n\u001b[1;32m-> 1959\u001b[1;33m \u001b[1;33m\u001b[0m\u001b[0m\n\u001b[0m\u001b[0;32m   1960\u001b[0m         \u001b[1;32mif\u001b[0m \u001b[1;32mnot\u001b[0m \u001b[0mos\u001b[0m\u001b[1;33m.\u001b[0m\u001b[0mpath\u001b[0m\u001b[1;33m.\u001b[0m\u001b[0mexists\u001b[0m\u001b[1;33m(\u001b[0m\u001b[0mself\u001b[0m\u001b[1;33m.\u001b[0m\u001b[0mprogs\u001b[0m\u001b[1;33m[\u001b[0m\u001b[0mprog\u001b[0m\u001b[1;33m]\u001b[0m\u001b[1;33m)\u001b[0m \u001b[1;32mor\u001b[0m\u001b[0;31m \u001b[0m\u001b[0;31m\\\u001b[0m\u001b[1;33m\u001b[0m\u001b[1;33m\u001b[0m\u001b[0m\n\u001b[0;32m   1961\u001b[0m                 \u001b[1;32mnot\u001b[0m \u001b[0mos\u001b[0m\u001b[1;33m.\u001b[0m\u001b[0mpath\u001b[0m\u001b[1;33m.\u001b[0m\u001b[0misfile\u001b[0m\u001b[1;33m(\u001b[0m\u001b[0mself\u001b[0m\u001b[1;33m.\u001b[0m\u001b[0mprogs\u001b[0m\u001b[1;33m[\u001b[0m\u001b[0mprog\u001b[0m\u001b[1;33m]\u001b[0m\u001b[1;33m)\u001b[0m\u001b[1;33m:\u001b[0m\u001b[1;33m\u001b[0m\u001b[1;33m\u001b[0m\u001b[0m\n",
      "\u001b[1;31mInvocationException\u001b[0m: GraphViz's executables not found"
     ]
    }
   ],
   "source": [
    "export_graphviz(model, out_file=\"dtl_tree_breast_cancer.dot\",feature_names=breast_cancer[\"feature_names\"], impurity=False, filled=True)\n",
    "\n",
    "with open(\"dtl_tree_breast_cancer.dot\") as f:\n",
    "    dot_graph = f.read()\n",
    "    \n",
    "graph_dtl = graphviz.Source(dot_graph)\n",
    "\n",
    "pydot_graph = pydotplus.graph_from_dot_data(dot_graph)\n",
    "pydot_graph.write_pdf('dtl_tree_breast_cancer.pdf')\n",
    "\n",
    "graph_dtl"
   ]
  },
  {
   "cell_type": "markdown",
   "metadata": {},
   "source": [
    "#### b. Id3Estimator"
   ]
  },
  {
   "cell_type": "code",
   "execution_count": 8,
   "metadata": {},
   "outputs": [
    {
     "name": "stdout",
     "output_type": "stream",
     "text": [
      "\n",
      "worst perimeter <=114.45\n",
      "|   worst concave points <=0.11\n",
      "|   |   area error <=48.70: 1 (241/1) \n",
      "|   |   area error >48.70: 0 (3/3) \n",
      "|   worst concave points >0.11\n",
      "|   |   worst texture <=25.74: 1 (27/3) \n",
      "|   |   worst texture >25.74: 0 (27/15) \n",
      "worst perimeter >114.45\n",
      "|   mean concave points <=0.05\n",
      "|   |   perimeter error <=3.15: 0 (8/1) \n",
      "|   |   perimeter error >3.15: 1 (3) \n",
      "|   mean concave points >0.05: 0 (123) \n",
      "\n"
     ]
    }
   ],
   "source": [
    "from id3 import export_graphviz, export_text\n",
    "\n",
    "model_id3 = Id3Estimator(max_depth=3)\n",
    "model_id3 = model_id3.fit(X_train_set, y_train_set)\n",
    "\n",
    "id3_prediction = model_id3.predict(X_test_set)\n",
    "\n",
    "r = export_text(model_id3.tree_, feature_names=array_feature_name)\n",
    "print(r)"
   ]
  },
  {
   "cell_type": "code",
   "execution_count": 9,
   "metadata": {},
   "outputs": [
    {
     "ename": "NameError",
     "evalue": "name 'graphviz' is not defined",
     "output_type": "error",
     "traceback": [
      "\u001b[1;31m---------------------------------------------------------------------------\u001b[0m",
      "\u001b[1;31mNameError\u001b[0m                                 Traceback (most recent call last)",
      "\u001b[1;32m<ipython-input-9-182d56614043>\u001b[0m in \u001b[0;36m<module>\u001b[1;34m\u001b[0m\n\u001b[0;32m      4\u001b[0m     \u001b[0mdot_graph_id3\u001b[0m \u001b[1;33m=\u001b[0m \u001b[0mf\u001b[0m\u001b[1;33m.\u001b[0m\u001b[0mread\u001b[0m\u001b[1;33m(\u001b[0m\u001b[1;33m)\u001b[0m\u001b[1;33m\u001b[0m\u001b[1;33m\u001b[0m\u001b[0m\n\u001b[0;32m      5\u001b[0m \u001b[1;33m\u001b[0m\u001b[0m\n\u001b[1;32m----> 6\u001b[1;33m \u001b[0mgraph_id3\u001b[0m \u001b[1;33m=\u001b[0m \u001b[0mgraphviz\u001b[0m\u001b[1;33m.\u001b[0m\u001b[0mSource\u001b[0m\u001b[1;33m(\u001b[0m\u001b[0mdot_graph_id3\u001b[0m\u001b[1;33m)\u001b[0m\u001b[1;33m\u001b[0m\u001b[1;33m\u001b[0m\u001b[0m\n\u001b[0m\u001b[0;32m      7\u001b[0m \u001b[1;33m\u001b[0m\u001b[0m\n\u001b[0;32m      8\u001b[0m \u001b[0mpydot_graph\u001b[0m \u001b[1;33m=\u001b[0m \u001b[0mpydotplus\u001b[0m\u001b[1;33m.\u001b[0m\u001b[0mgraph_from_dot_data\u001b[0m\u001b[1;33m(\u001b[0m\u001b[0mdot_graph_id3\u001b[0m\u001b[1;33m)\u001b[0m\u001b[1;33m\u001b[0m\u001b[1;33m\u001b[0m\u001b[0m\n",
      "\u001b[1;31mNameError\u001b[0m: name 'graphviz' is not defined"
     ]
    }
   ],
   "source": [
    "export_graphviz(model_id3.tree_, out_file=\"id3_tree_breast_cancer.dot\",feature_names=array_feature_name)\n",
    "\n",
    "with open(\"id3_tree_breast_cancer.dot\") as f:\n",
    "    dot_graph_id3 = f.read()\n",
    "    \n",
    "graph_id3 = graphviz.Source(dot_graph_id3)\n",
    "\n",
    "pydot_graph = pydotplus.graph_from_dot_data(dot_graph_id3)\n",
    "pydot_graph.write_pdf('id3_tree_breast_cancer.pdf')\n",
    "\n",
    "graph_id3"
   ]
  },
  {
   "cell_type": "markdown",
   "metadata": {},
   "source": [
    "#### c. K Means"
   ]
  },
  {
   "cell_type": "code",
   "execution_count": 10,
   "metadata": {},
   "outputs": [],
   "source": [
    "model_kmeans = KMeans(n_clusters=2, random_state=0)\n",
    "\n",
    "model_kmeans.fit(X_train_set)\n",
    "\n",
    "kmeans_prediction = model_kmeans.predict(X_test_set)"
   ]
  },
  {
   "cell_type": "markdown",
   "metadata": {},
   "source": [
    "#### d. LogisticRegression"
   ]
  },
  {
   "cell_type": "code",
   "execution_count": 11,
   "metadata": {},
   "outputs": [],
   "source": [
    "model_logistic = LogisticRegression(max_iter=10000)\n",
    "\n",
    "model_logistic.fit(X_train_set, y_train_set)\n",
    "\n",
    "logistic_prediction = model_logistic.predict(X_test_set)"
   ]
  },
  {
   "cell_type": "markdown",
   "metadata": {},
   "source": [
    "#### e. Neural_network"
   ]
  },
  {
   "cell_type": "code",
   "execution_count": 12,
   "metadata": {},
   "outputs": [],
   "source": [
    "clf = MLPClassifier(max_iter=700, random_state=1).fit(X_train_set, y_train_set)\n",
    "\n",
    "neural_prediction = clf.predict(X_test_set)"
   ]
  },
  {
   "cell_type": "markdown",
   "metadata": {},
   "source": [
    "#### f. SVM"
   ]
  },
  {
   "cell_type": "code",
   "execution_count": 13,
   "metadata": {},
   "outputs": [],
   "source": [
    "model_svm = make_pipeline(StandardScaler(), SVC(gamma='auto'))\n",
    "\n",
    "model_svm.fit(X_train_set, y_train_set)\n",
    "\n",
    "svm_prediction = model_svm.predict(X_test_set)"
   ]
  },
  {
   "cell_type": "markdown",
   "metadata": {},
   "source": [
    "### Accuracy and F1-Score Table"
   ]
  },
  {
   "cell_type": "code",
   "execution_count": 14,
   "metadata": {},
   "outputs": [
    {
     "data": {
      "text/html": [
       "<div>\n",
       "<style scoped>\n",
       "    .dataframe tbody tr th:only-of-type {\n",
       "        vertical-align: middle;\n",
       "    }\n",
       "\n",
       "    .dataframe tbody tr th {\n",
       "        vertical-align: top;\n",
       "    }\n",
       "\n",
       "    .dataframe thead th {\n",
       "        text-align: right;\n",
       "    }\n",
       "</style>\n",
       "<table border=\"1\" class=\"dataframe\">\n",
       "  <thead>\n",
       "    <tr style=\"text-align: right;\">\n",
       "      <th></th>\n",
       "      <th>accuracy</th>\n",
       "      <th>f1</th>\n",
       "    </tr>\n",
       "  </thead>\n",
       "  <tbody>\n",
       "    <tr>\n",
       "      <th>DecisionTreeClassifier</th>\n",
       "      <td>0.929825</td>\n",
       "      <td>0.940299</td>\n",
       "    </tr>\n",
       "    <tr>\n",
       "      <th>Id3Estimator</th>\n",
       "      <td>0.956140</td>\n",
       "      <td>0.962406</td>\n",
       "    </tr>\n",
       "    <tr>\n",
       "      <th>KMeans</th>\n",
       "      <td>0.140351</td>\n",
       "      <td>0.000000</td>\n",
       "    </tr>\n",
       "    <tr>\n",
       "      <th>LogisticRegression</th>\n",
       "      <td>0.982456</td>\n",
       "      <td>0.985294</td>\n",
       "    </tr>\n",
       "    <tr>\n",
       "      <th>Neural_Network</th>\n",
       "      <td>0.921053</td>\n",
       "      <td>0.937063</td>\n",
       "    </tr>\n",
       "    <tr>\n",
       "      <th>SVM</th>\n",
       "      <td>0.973684</td>\n",
       "      <td>0.977778</td>\n",
       "    </tr>\n",
       "  </tbody>\n",
       "</table>\n",
       "</div>"
      ],
      "text/plain": [
       "                        accuracy        f1\n",
       "DecisionTreeClassifier  0.929825  0.940299\n",
       "Id3Estimator            0.956140  0.962406\n",
       "KMeans                  0.140351  0.000000\n",
       "LogisticRegression      0.982456  0.985294\n",
       "Neural_Network          0.921053  0.937063\n",
       "SVM                     0.973684  0.977778"
      ]
     },
     "execution_count": 14,
     "metadata": {},
     "output_type": "execute_result"
    }
   ],
   "source": [
    "# DecisionTreeClassifier\n",
    "DTL_accuracy = accuracy_score(y_test_set, DTL_prediction)\n",
    "DTL_f1 = f1_score(y_test_set, DTL_prediction)\n",
    "\n",
    "# Id3Estimator\n",
    "id3_accuracy = accuracy_score(y_test_set, id3_prediction)\n",
    "id3_f1 = f1_score(y_test_set, id3_prediction)\n",
    "\n",
    "# K Means\n",
    "kmeans_accuracy = accuracy_score(y_test_set, kmeans_prediction)\n",
    "kmeans_f1 = f1_score(y_test_set, kmeans_prediction)\n",
    "\n",
    "# LogisticRegression\n",
    "logistic_accuracy = accuracy_score(y_test_set, logistic_prediction)\n",
    "logistic_f1 = f1_score(y_test_set, logistic_prediction)\n",
    "\n",
    "# Neural_network\n",
    "neural_accuracy = accuracy_score(y_test_set, neural_prediction)\n",
    "neural_f1 = f1_score(y_test_set, neural_prediction)\n",
    "\n",
    "# SVM\n",
    "svm_accuracy = accuracy_score(y_test_set, svm_prediction)\n",
    "svm_f1 = f1_score(y_test_set, svm_prediction)\n",
    "\n",
    "accuracyAll = [DTL_accuracy, id3_accuracy, kmeans_accuracy, logistic_accuracy, neural_accuracy, svm_accuracy]\n",
    "f1All = [DTL_f1, id3_f1, kmeans_f1, logistic_f1, neural_f1, svm_f1]\n",
    "score_dataAll = {'accuracy': accuracyAll, 'f1': f1All}\n",
    "allScore = pd.DataFrame(data = score_dataAll, index=['DecisionTreeClassifier', 'Id3Estimator', 'KMeans', 'LogisticRegression', 'Neural_Network', 'SVM'])\n",
    "allScore"
   ]
  },
  {
   "cell_type": "markdown",
   "metadata": {},
   "source": [
    "## Dataset Play-tennis"
   ]
  },
  {
   "cell_type": "markdown",
   "metadata": {},
   "source": [
    "### Load Dataset"
   ]
  },
  {
   "cell_type": "code",
   "execution_count": 15,
   "metadata": {},
   "outputs": [],
   "source": [
    "dataset_play_tennis = pd.read_csv(\"PlayTennis.csv\")\n",
    "dataset_play_tennis_data = dataset_play_tennis[{'Outlook', 'Temperature', 'Humidity', 'Wind'}]\n",
    "dataset_play_tennis_target = dataset_play_tennis[{'Play Tennis'}]\n",
    "\n",
    "# dataset_play_tennis_target\n",
    "# dataset_play_tennis_data"
   ]
  },
  {
   "cell_type": "markdown",
   "metadata": {},
   "source": [
    "### Label Encoder\n",
    "\n",
    "##### Humidity : 0 = \"High\", 1 = \"Normal\"\n",
    "##### Temperature : 0 = \"Cool\", 1 = \"Hot\", 2 = \"Mild\"\n",
    "##### Outlook : 0 = \"Overcast\", 1 = \"Rain\", 2 = \"Sunny\"\n",
    "##### Wind : 0 = \"Strong\", 1 = \"Weak\"\n",
    "##### Play Tennis : 0 = \"No\", 1 = \"Yes\""
   ]
  },
  {
   "cell_type": "code",
   "execution_count": 16,
   "metadata": {},
   "outputs": [],
   "source": [
    "le = LabelEncoder()\n",
    "\n",
    "x_data_encoded = dataset_play_tennis_data.copy()\n",
    "if dataset_play_tennis_data is not None:\n",
    "    for column in dataset_play_tennis_data.columns:\n",
    "        x_data_encoded[column] = le.fit_transform(x_data_encoded[column])\n",
    "\n",
    "y_target_encoded = dataset_play_tennis_target.copy()\n",
    "if dataset_play_tennis_target is not None:\n",
    "    for column in dataset_play_tennis_target.columns:\n",
    "        y_target_encoded[column] = le.fit_transform(y_target_encoded[column]) "
   ]
  },
  {
   "cell_type": "markdown",
   "metadata": {},
   "source": [
    "### Splitting Data"
   ]
  },
  {
   "cell_type": "code",
   "execution_count": 17,
   "metadata": {},
   "outputs": [],
   "source": [
    "x_train, x_test, y_train, y_test = train_test_split(x_data_encoded, y_target_encoded, test_size=0.2, random_state=1)"
   ]
  },
  {
   "cell_type": "markdown",
   "metadata": {},
   "source": [
    "### Training Dataset\n",
    "#### a. DecisionTreeClassifier"
   ]
  },
  {
   "cell_type": "code",
   "execution_count": 18,
   "metadata": {},
   "outputs": [
    {
     "name": "stdout",
     "output_type": "stream",
     "text": [
      "|--- Outlook <= 0.50\n",
      "|   |--- class: 1\n",
      "|--- Outlook >  0.50\n",
      "|   |--- Humidity <= 0.50\n",
      "|   |   |--- class: 0\n",
      "|   |--- Humidity >  0.50\n",
      "|   |   |--- Wind <= 0.50\n",
      "|   |   |   |--- Outlook <= 1.50\n",
      "|   |   |   |   |--- class: 0\n",
      "|   |   |   |--- Outlook >  1.50\n",
      "|   |   |   |   |--- class: 1\n",
      "|   |   |--- Wind >  0.50\n",
      "|   |   |   |--- class: 1\n",
      "\n"
     ]
    }
   ],
   "source": [
    "from sklearn.tree import DecisionTreeClassifier, export_text, export_graphviz\n",
    "\n",
    "model_pandas = DecisionTreeClassifier(max_depth = 10)\n",
    "\n",
    "model_pandas.fit(x_train, y_train)\n",
    "\n",
    "array_feature_name = []\n",
    "for i in range(len(dataset_play_tennis_data.columns)):\n",
    "    array_feature_name.append(dataset_play_tennis_data.columns[i])\n",
    "    \n",
    "DTL_prediction = model_pandas.predict(x_test)\n",
    "    \n",
    "r = export_text(model_pandas, feature_names=array_feature_name)\n",
    "print(r)"
   ]
  },
  {
   "cell_type": "code",
   "execution_count": 19,
   "metadata": {},
   "outputs": [
    {
     "ename": "NameError",
     "evalue": "name 'graphviz' is not defined",
     "output_type": "error",
     "traceback": [
      "\u001b[1;31m---------------------------------------------------------------------------\u001b[0m",
      "\u001b[1;31mNameError\u001b[0m                                 Traceback (most recent call last)",
      "\u001b[1;32m<ipython-input-19-4032536b741b>\u001b[0m in \u001b[0;36m<module>\u001b[1;34m\u001b[0m\n\u001b[0;32m      4\u001b[0m     \u001b[0mdot_graph_pandas\u001b[0m \u001b[1;33m=\u001b[0m \u001b[0mf\u001b[0m\u001b[1;33m.\u001b[0m\u001b[0mread\u001b[0m\u001b[1;33m(\u001b[0m\u001b[1;33m)\u001b[0m\u001b[1;33m\u001b[0m\u001b[1;33m\u001b[0m\u001b[0m\n\u001b[0;32m      5\u001b[0m \u001b[1;33m\u001b[0m\u001b[0m\n\u001b[1;32m----> 6\u001b[1;33m \u001b[0mgraph_dtl_pandas\u001b[0m \u001b[1;33m=\u001b[0m \u001b[0mgraphviz\u001b[0m\u001b[1;33m.\u001b[0m\u001b[0mSource\u001b[0m\u001b[1;33m(\u001b[0m\u001b[0mdot_graph_pandas\u001b[0m\u001b[1;33m)\u001b[0m\u001b[1;33m\u001b[0m\u001b[1;33m\u001b[0m\u001b[0m\n\u001b[0m\u001b[0;32m      7\u001b[0m \u001b[1;33m\u001b[0m\u001b[0m\n\u001b[0;32m      8\u001b[0m \u001b[0mpydot_graph\u001b[0m \u001b[1;33m=\u001b[0m \u001b[0mpydotplus\u001b[0m\u001b[1;33m.\u001b[0m\u001b[0mgraph_from_dot_data\u001b[0m\u001b[1;33m(\u001b[0m\u001b[0mdot_graph_pandas\u001b[0m\u001b[1;33m)\u001b[0m\u001b[1;33m\u001b[0m\u001b[1;33m\u001b[0m\u001b[0m\n",
      "\u001b[1;31mNameError\u001b[0m: name 'graphviz' is not defined"
     ]
    }
   ],
   "source": [
    "export_graphviz(model_pandas, out_file=\"dtl_tree_play_tennis.dot\",feature_names=dataset_play_tennis_data.columns, impurity=False, filled=True)\n",
    "\n",
    "with open(\"dtl_tree_play_tennis.dot\") as f:\n",
    "    dot_graph_pandas = f.read()\n",
    "    \n",
    "graph_dtl_pandas = graphviz.Source(dot_graph_pandas)\n",
    "\n",
    "pydot_graph = pydotplus.graph_from_dot_data(dot_graph_pandas)\n",
    "pydot_graph.write_pdf('dtl_tree_play_tennis.pdf')\n",
    "\n",
    "graph_dtl_pandas"
   ]
  },
  {
   "cell_type": "markdown",
   "metadata": {},
   "source": [
    "#### b. Id3Estimator"
   ]
  },
  {
   "cell_type": "code",
   "execution_count": 20,
   "metadata": {},
   "outputs": [
    {
     "name": "stdout",
     "output_type": "stream",
     "text": [
      "\n",
      "Outlook <=0.50: 1 (3) \n",
      "Outlook >0.50\n",
      "|   Humidity <=0.50: 0 (3) \n",
      "|   Humidity >0.50\n",
      "|   |   Wind <=0.50\n",
      "|   |   |   Temperature <=1.00: 0 (1) \n",
      "|   |   |   Temperature >1.00: 1 (1) \n",
      "|   |   Wind >0.50: 1 (3) \n",
      "\n"
     ]
    }
   ],
   "source": [
    "from id3 import export_graphviz, export_text\n",
    "\n",
    "model_id3_pandas = Id3Estimator()\n",
    "model_id3_pandas = model_id3_pandas.fit(x_train, y_train.values.ravel())\n",
    "\n",
    "array_feature_name_pandas = []\n",
    "for i in range(len(dataset_play_tennis_data.columns)):\n",
    "    array_feature_name_pandas.append(dataset_play_tennis_data.columns[i])\n",
    "\n",
    "id3_prediction = model_id3_pandas.predict(x_test)\n",
    "\n",
    "r = export_text(model_id3_pandas.tree_, array_feature_name_pandas)\n",
    "print(r)"
   ]
  },
  {
   "cell_type": "code",
   "execution_count": 21,
   "metadata": {},
   "outputs": [
    {
     "ename": "NameError",
     "evalue": "name 'graphviz' is not defined",
     "output_type": "error",
     "traceback": [
      "\u001b[1;31m---------------------------------------------------------------------------\u001b[0m",
      "\u001b[1;31mNameError\u001b[0m                                 Traceback (most recent call last)",
      "\u001b[1;32m<ipython-input-21-567688bb0e5d>\u001b[0m in \u001b[0;36m<module>\u001b[1;34m\u001b[0m\n\u001b[0;32m      4\u001b[0m     \u001b[0mdot_graph_id3_pandas\u001b[0m \u001b[1;33m=\u001b[0m \u001b[0mf\u001b[0m\u001b[1;33m.\u001b[0m\u001b[0mread\u001b[0m\u001b[1;33m(\u001b[0m\u001b[1;33m)\u001b[0m\u001b[1;33m\u001b[0m\u001b[1;33m\u001b[0m\u001b[0m\n\u001b[0;32m      5\u001b[0m \u001b[1;33m\u001b[0m\u001b[0m\n\u001b[1;32m----> 6\u001b[1;33m \u001b[0mgraph_id3_pandas\u001b[0m \u001b[1;33m=\u001b[0m \u001b[0mgraphviz\u001b[0m\u001b[1;33m.\u001b[0m\u001b[0mSource\u001b[0m\u001b[1;33m(\u001b[0m\u001b[0mdot_graph_id3_pandas\u001b[0m\u001b[1;33m)\u001b[0m\u001b[1;33m\u001b[0m\u001b[1;33m\u001b[0m\u001b[0m\n\u001b[0m\u001b[0;32m      7\u001b[0m \u001b[1;33m\u001b[0m\u001b[0m\n\u001b[0;32m      8\u001b[0m \u001b[0mpydot_graph\u001b[0m \u001b[1;33m=\u001b[0m \u001b[0mpydotplus\u001b[0m\u001b[1;33m.\u001b[0m\u001b[0mgraph_from_dot_data\u001b[0m\u001b[1;33m(\u001b[0m\u001b[0mdot_graph_id3_pandas\u001b[0m\u001b[1;33m)\u001b[0m\u001b[1;33m\u001b[0m\u001b[1;33m\u001b[0m\u001b[0m\n",
      "\u001b[1;31mNameError\u001b[0m: name 'graphviz' is not defined"
     ]
    }
   ],
   "source": [
    "export_graphviz(model_id3_pandas.tree_, out_file=\"id3_tree_play_tennis.dot\",feature_names=dataset_play_tennis_data.columns)\n",
    "\n",
    "with open(\"id3_tree_play_tennis.dot\") as f:\n",
    "    dot_graph_id3_pandas = f.read()\n",
    "    \n",
    "graph_id3_pandas = graphviz.Source(dot_graph_id3_pandas)\n",
    "\n",
    "pydot_graph = pydotplus.graph_from_dot_data(dot_graph_id3_pandas)\n",
    "pydot_graph.write_pdf('id3_tree_play_tennis.pdf')\n",
    "\n",
    "graph_id3_pandas"
   ]
  },
  {
   "cell_type": "markdown",
   "metadata": {},
   "source": [
    "#### c. K Means"
   ]
  },
  {
   "cell_type": "code",
   "execution_count": 22,
   "metadata": {},
   "outputs": [],
   "source": [
    "model_kmeans_pandas = KMeans(n_clusters=2, random_state=0)\n",
    "\n",
    "model_kmeans_pandas.fit(x_train)\n",
    "\n",
    "kmeans_prediction = model_kmeans_pandas.predict(x_test)"
   ]
  },
  {
   "cell_type": "markdown",
   "metadata": {},
   "source": [
    "#### d. LogisticRegression"
   ]
  },
  {
   "cell_type": "code",
   "execution_count": 23,
   "metadata": {},
   "outputs": [],
   "source": [
    "model_logistic_pandas = LogisticRegression(max_iter=10000)\n",
    "\n",
    "model_logistic_pandas.fit(x_train, y_train.values.ravel())\n",
    "\n",
    "logistic_prediction = model_logistic_pandas.predict(x_test)"
   ]
  },
  {
   "cell_type": "markdown",
   "metadata": {},
   "source": [
    "#### e. Neural_network"
   ]
  },
  {
   "cell_type": "code",
   "execution_count": 24,
   "metadata": {},
   "outputs": [],
   "source": [
    "clf_pandas = MLPClassifier(random_state=1, max_iter=700).fit(x_train, y_train.values.ravel())\n",
    "\n",
    "neural_prediction = clf_pandas.predict(x_test)"
   ]
  },
  {
   "cell_type": "markdown",
   "metadata": {},
   "source": [
    "#### f. SVM"
   ]
  },
  {
   "cell_type": "code",
   "execution_count": 25,
   "metadata": {},
   "outputs": [],
   "source": [
    "model_svm_pandas = make_pipeline(StandardScaler(), SVC(gamma='auto'))\n",
    "\n",
    "model_svm_pandas.fit(x_train, y_train.values.ravel())\n",
    "\n",
    "svm_prediction = model_svm_pandas.predict(x_test)"
   ]
  },
  {
   "cell_type": "markdown",
   "metadata": {},
   "source": [
    "### Accuracy and F1-Score Table"
   ]
  },
  {
   "cell_type": "code",
   "execution_count": 26,
   "metadata": {},
   "outputs": [
    {
     "data": {
      "text/html": [
       "<div>\n",
       "<style scoped>\n",
       "    .dataframe tbody tr th:only-of-type {\n",
       "        vertical-align: middle;\n",
       "    }\n",
       "\n",
       "    .dataframe tbody tr th {\n",
       "        vertical-align: top;\n",
       "    }\n",
       "\n",
       "    .dataframe thead th {\n",
       "        text-align: right;\n",
       "    }\n",
       "</style>\n",
       "<table border=\"1\" class=\"dataframe\">\n",
       "  <thead>\n",
       "    <tr style=\"text-align: right;\">\n",
       "      <th></th>\n",
       "      <th>accuracy</th>\n",
       "      <th>f1</th>\n",
       "    </tr>\n",
       "  </thead>\n",
       "  <tbody>\n",
       "    <tr>\n",
       "      <th>DecisionTreeClassifier</th>\n",
       "      <td>0.666667</td>\n",
       "      <td>0.666667</td>\n",
       "    </tr>\n",
       "    <tr>\n",
       "      <th>Id3Estimator</th>\n",
       "      <td>0.666667</td>\n",
       "      <td>0.666667</td>\n",
       "    </tr>\n",
       "    <tr>\n",
       "      <th>KMeans</th>\n",
       "      <td>1.000000</td>\n",
       "      <td>1.000000</td>\n",
       "    </tr>\n",
       "    <tr>\n",
       "      <th>LogisticRegression</th>\n",
       "      <td>0.666667</td>\n",
       "      <td>0.800000</td>\n",
       "    </tr>\n",
       "    <tr>\n",
       "      <th>Neural_Network</th>\n",
       "      <td>1.000000</td>\n",
       "      <td>1.000000</td>\n",
       "    </tr>\n",
       "    <tr>\n",
       "      <th>SVM</th>\n",
       "      <td>1.000000</td>\n",
       "      <td>1.000000</td>\n",
       "    </tr>\n",
       "  </tbody>\n",
       "</table>\n",
       "</div>"
      ],
      "text/plain": [
       "                        accuracy        f1\n",
       "DecisionTreeClassifier  0.666667  0.666667\n",
       "Id3Estimator            0.666667  0.666667\n",
       "KMeans                  1.000000  1.000000\n",
       "LogisticRegression      0.666667  0.800000\n",
       "Neural_Network          1.000000  1.000000\n",
       "SVM                     1.000000  1.000000"
      ]
     },
     "execution_count": 26,
     "metadata": {},
     "output_type": "execute_result"
    }
   ],
   "source": [
    "# DecisionTreeClassifier\n",
    "DTL_accuracy = accuracy_score(y_test, DTL_prediction)\n",
    "DTL_f1 = f1_score(y_test, DTL_prediction)\n",
    "\n",
    "# Id3Estimator\n",
    "id3_accuracy = accuracy_score(y_test, id3_prediction)\n",
    "id3_f1 = f1_score(y_test, id3_prediction)\n",
    "\n",
    "# K Means\n",
    "kmeans_accuracy = accuracy_score(y_test, kmeans_prediction)\n",
    "kmeans_f1 = f1_score(y_test, kmeans_prediction)\n",
    "\n",
    "# LogisticRegression\n",
    "logistic_accuracy = accuracy_score(y_test, logistic_prediction)\n",
    "logistic_f1 = f1_score(y_test, logistic_prediction)\n",
    "\n",
    "# Neural_network\n",
    "neural_accuracy = accuracy_score(y_test, neural_prediction)\n",
    "neural_f1 = f1_score(y_test, neural_prediction)\n",
    "\n",
    "# SVM\n",
    "svm_accuracy = accuracy_score(y_test, svm_prediction)\n",
    "svm_f1 = f1_score(y_test, svm_prediction)\n",
    "\n",
    "accuracyAll = [DTL_accuracy, id3_accuracy, kmeans_accuracy, logistic_accuracy, neural_accuracy, svm_accuracy]\n",
    "f1All = [DTL_f1, id3_f1, kmeans_f1, logistic_f1, neural_f1, svm_f1]\n",
    "score_dataAll = {'accuracy': accuracyAll, 'f1': f1All}\n",
    "allScore = pd.DataFrame(data = score_dataAll, index=['DecisionTreeClassifier', 'Id3Estimator', 'KMeans', 'LogisticRegression', 'Neural_Network', 'SVM'])\n",
    "allScore"
   ]
  },
  {
   "cell_type": "code",
   "execution_count": null,
   "metadata": {},
   "outputs": [],
   "source": []
  },
  {
   "cell_type": "code",
   "execution_count": null,
   "metadata": {},
   "outputs": [],
   "source": []
  },
  {
   "cell_type": "code",
   "execution_count": null,
   "metadata": {},
   "outputs": [],
   "source": []
  }
 ],
 "metadata": {
  "kernelspec": {
   "display_name": "Python 3",
   "language": "python",
   "name": "python3"
  },
  "language_info": {
   "codemirror_mode": {
    "name": "ipython",
    "version": 3
   },
   "file_extension": ".py",
   "mimetype": "text/x-python",
   "name": "python",
   "nbconvert_exporter": "python",
   "pygments_lexer": "ipython3",
   "version": "3.8.5"
  }
 },
 "nbformat": 4,
 "nbformat_minor": 4
}
