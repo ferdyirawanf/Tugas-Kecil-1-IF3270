{
 "cells": [
  {
   "cell_type": "markdown",
   "metadata": {},
   "source": [
    "## Dataset Breast Cancer"
   ]
  },
  {
   "cell_type": "markdown",
   "metadata": {},
   "source": [
    "### Load Dataset"
   ]
  },
  {
   "cell_type": "code",
   "execution_count": 358,
   "metadata": {},
   "outputs": [],
   "source": [
    "from sklearn.datasets import load_breast_cancer\n",
    "\n",
    "breast_cancer = load_breast_cancer()\n",
    "\n",
    "X = breast_cancer.data\n",
    "y = breast_cancer.target"
   ]
  },
  {
   "cell_type": "markdown",
   "metadata": {},
   "source": [
    "### Splitting Dataset"
   ]
  },
  {
   "cell_type": "code",
   "execution_count": 359,
   "metadata": {},
   "outputs": [],
   "source": [
    "from sklearn.model_selection import train_test_split\n",
    "\n",
    "X_train_set, X_test_set, y_train_set, y_test_set = train_test_split(X, y, test_size = 0.2)"
   ]
  },
  {
   "cell_type": "markdown",
   "metadata": {},
   "source": [
    "### Training Dataset\n",
    "#### a. DecisionTreeClassifier"
   ]
  },
  {
   "cell_type": "code",
   "execution_count": 360,
   "metadata": {
    "scrolled": true
   },
   "outputs": [
    {
     "name": "stdout",
     "output_type": "stream",
     "text": [
      "|--- worst concave points <= 0.14\n",
      "|   |--- worst area <= 961.55\n",
      "|   |   |--- worst perimeter <= 101.95\n",
      "|   |   |   |--- area error <= 48.98\n",
      "|   |   |   |   |--- worst texture <= 33.35\n",
      "|   |   |   |   |   |--- class: 1\n",
      "|   |   |   |   |--- worst texture >  33.35\n",
      "|   |   |   |   |   |--- worst texture <= 33.80\n",
      "|   |   |   |   |   |   |--- class: 0\n",
      "|   |   |   |   |   |--- worst texture >  33.80\n",
      "|   |   |   |   |   |   |--- class: 1\n",
      "|   |   |   |--- area error >  48.98\n",
      "|   |   |   |   |--- worst smoothness <= 0.11\n",
      "|   |   |   |   |   |--- class: 1\n",
      "|   |   |   |   |--- worst smoothness >  0.11\n",
      "|   |   |   |   |   |--- class: 0\n",
      "|   |   |--- worst perimeter >  101.95\n",
      "|   |   |   |--- worst texture <= 29.18\n",
      "|   |   |   |   |--- worst smoothness <= 0.14\n",
      "|   |   |   |   |   |--- concave points error <= 0.02\n",
      "|   |   |   |   |   |   |--- class: 1\n",
      "|   |   |   |   |   |--- concave points error >  0.02\n",
      "|   |   |   |   |   |   |--- worst area <= 819.55\n",
      "|   |   |   |   |   |   |   |--- class: 1\n",
      "|   |   |   |   |   |   |--- worst area >  819.55\n",
      "|   |   |   |   |   |   |   |--- class: 0\n",
      "|   |   |   |   |--- worst smoothness >  0.14\n",
      "|   |   |   |   |   |--- class: 0\n",
      "|   |   |   |--- worst texture >  29.18\n",
      "|   |   |   |   |--- mean texture <= 24.98\n",
      "|   |   |   |   |   |--- class: 0\n",
      "|   |   |   |   |--- mean texture >  24.98\n",
      "|   |   |   |   |   |--- worst compactness <= 0.12\n",
      "|   |   |   |   |   |   |--- class: 0\n",
      "|   |   |   |   |   |--- worst compactness >  0.12\n",
      "|   |   |   |   |   |   |--- class: 1\n",
      "|   |--- worst area >  961.55\n",
      "|   |   |--- mean symmetry <= 0.15\n",
      "|   |   |   |--- worst compactness <= 0.17\n",
      "|   |   |   |   |--- class: 1\n",
      "|   |   |   |--- worst compactness >  0.17\n",
      "|   |   |   |   |--- class: 0\n",
      "|   |   |--- mean symmetry >  0.15\n",
      "|   |   |   |--- class: 0\n",
      "|--- worst concave points >  0.14\n",
      "|   |--- mean concave points <= 0.05\n",
      "|   |   |--- worst texture <= 33.11\n",
      "|   |   |   |--- class: 1\n",
      "|   |   |--- worst texture >  33.11\n",
      "|   |   |   |--- class: 0\n",
      "|   |--- mean concave points >  0.05\n",
      "|   |   |--- concavity error <= 0.14\n",
      "|   |   |   |--- mean concave points <= 0.06\n",
      "|   |   |   |   |--- mean concave points <= 0.05\n",
      "|   |   |   |   |   |--- class: 0\n",
      "|   |   |   |   |--- mean concave points >  0.05\n",
      "|   |   |   |   |   |--- class: 1\n",
      "|   |   |   |--- mean concave points >  0.06\n",
      "|   |   |   |   |--- class: 0\n",
      "|   |   |--- concavity error >  0.14\n",
      "|   |   |   |--- class: 1\n",
      "\n"
     ]
    }
   ],
   "source": [
    "from sklearn.tree import DecisionTreeClassifier, export_text\n",
    "\n",
    "model = DecisionTreeClassifier(random_state=0)\n",
    "\n",
    "model.fit(X_train_set, y_train_set)\n",
    "\n",
    "DTL_prediction = model.predict(X_test_set)\n",
    "\n",
    "array_feature_name = []\n",
    "for i in range(len(breast_cancer[\"feature_names\"])):\n",
    "    array_feature_name.append(breast_cancer[\"feature_names\"][i])\n",
    "    \n",
    "r = export_text(model, feature_names=array_feature_name)\n",
    "print(r)"
   ]
  },
  {
   "cell_type": "markdown",
   "metadata": {},
   "source": [
    "#### b. Id3Estimator"
   ]
  },
  {
   "cell_type": "code",
   "execution_count": 361,
   "metadata": {},
   "outputs": [],
   "source": [
    "import six\n",
    "\n",
    "from id3 import Id3Estimator\n",
    "\n",
    "model_id3 = Id3Estimator()\n",
    "model_id3 = model_id3.fit(X_train_set, y_train_set)\n",
    "\n",
    "id3_prediction = model_id3.predict(X_test_set)"
   ]
  },
  {
   "cell_type": "markdown",
   "metadata": {},
   "source": [
    "#### c. K Means"
   ]
  },
  {
   "cell_type": "code",
   "execution_count": 362,
   "metadata": {},
   "outputs": [],
   "source": [
    "from sklearn.cluster import KMeans\n",
    "\n",
    "model_kmeans = KMeans(n_clusters=2, random_state=0)\n",
    "\n",
    "model_kmeans.fit(X_train_set)\n",
    "\n",
    "kmeans_prediction = model_kmeans.predict(X_test_set)"
   ]
  },
  {
   "cell_type": "markdown",
   "metadata": {},
   "source": [
    "#### d. LogisticRegression"
   ]
  },
  {
   "cell_type": "code",
   "execution_count": 363,
   "metadata": {},
   "outputs": [],
   "source": [
    "from sklearn.linear_model import LogisticRegression\n",
    "\n",
    "model_logistic = LogisticRegression(max_iter=10000)\n",
    "\n",
    "model_logistic.fit(X_train_set, y_train_set)\n",
    "\n",
    "logistic_prediction = model_logistic.predict(X_test_set)"
   ]
  },
  {
   "cell_type": "markdown",
   "metadata": {},
   "source": [
    "#### e. Neural_network"
   ]
  },
  {
   "cell_type": "code",
   "execution_count": 364,
   "metadata": {},
   "outputs": [],
   "source": [
    "from sklearn.neural_network import MLPClassifier\n",
    "from sklearn.datasets import make_classification\n",
    "from sklearn.model_selection import train_test_split\n",
    "\n",
    "clf = MLPClassifier(max_iter=700, random_state=1).fit(X_train_set, y_train_set)\n",
    "\n",
    "neural_prediction = clf.predict(X_test_set)"
   ]
  },
  {
   "cell_type": "markdown",
   "metadata": {},
   "source": [
    "#### f. SVM"
   ]
  },
  {
   "cell_type": "code",
   "execution_count": 365,
   "metadata": {},
   "outputs": [],
   "source": [
    "from sklearn.pipeline import make_pipeline\n",
    "from sklearn.preprocessing import StandardScaler\n",
    "from sklearn.svm import SVC\n",
    "\n",
    "model_svm = make_pipeline(StandardScaler(), SVC(gamma='auto'))\n",
    "\n",
    "model_svm.fit(X_train_set, y_train_set)\n",
    "\n",
    "svm_prediction = model_svm.predict(X_test_set)"
   ]
  },
  {
   "cell_type": "markdown",
   "metadata": {},
   "source": [
    "### Accuracy and F1-Score Table"
   ]
  },
  {
   "cell_type": "code",
   "execution_count": 366,
   "metadata": {},
   "outputs": [
    {
     "data": {
      "text/html": [
       "<div>\n",
       "<style scoped>\n",
       "    .dataframe tbody tr th:only-of-type {\n",
       "        vertical-align: middle;\n",
       "    }\n",
       "\n",
       "    .dataframe tbody tr th {\n",
       "        vertical-align: top;\n",
       "    }\n",
       "\n",
       "    .dataframe thead th {\n",
       "        text-align: right;\n",
       "    }\n",
       "</style>\n",
       "<table border=\"1\" class=\"dataframe\">\n",
       "  <thead>\n",
       "    <tr style=\"text-align: right;\">\n",
       "      <th></th>\n",
       "      <th>accuracy</th>\n",
       "      <th>f1</th>\n",
       "    </tr>\n",
       "  </thead>\n",
       "  <tbody>\n",
       "    <tr>\n",
       "      <th>DecisionTreeClassifier</th>\n",
       "      <td>0.929825</td>\n",
       "      <td>0.941176</td>\n",
       "    </tr>\n",
       "    <tr>\n",
       "      <th>Id3Estimator</th>\n",
       "      <td>0.938596</td>\n",
       "      <td>0.950355</td>\n",
       "    </tr>\n",
       "    <tr>\n",
       "      <th>KMeans</th>\n",
       "      <td>0.842105</td>\n",
       "      <td>0.886076</td>\n",
       "    </tr>\n",
       "    <tr>\n",
       "      <th>LogisticRegression</th>\n",
       "      <td>0.956140</td>\n",
       "      <td>0.964029</td>\n",
       "    </tr>\n",
       "    <tr>\n",
       "      <th>Neural_Network</th>\n",
       "      <td>0.956140</td>\n",
       "      <td>0.964539</td>\n",
       "    </tr>\n",
       "    <tr>\n",
       "      <th>SVM</th>\n",
       "      <td>0.964912</td>\n",
       "      <td>0.971014</td>\n",
       "    </tr>\n",
       "  </tbody>\n",
       "</table>\n",
       "</div>"
      ],
      "text/plain": [
       "                        accuracy        f1\n",
       "DecisionTreeClassifier  0.929825  0.941176\n",
       "Id3Estimator            0.938596  0.950355\n",
       "KMeans                  0.842105  0.886076\n",
       "LogisticRegression      0.956140  0.964029\n",
       "Neural_Network          0.956140  0.964539\n",
       "SVM                     0.964912  0.971014"
      ]
     },
     "execution_count": 366,
     "metadata": {},
     "output_type": "execute_result"
    }
   ],
   "source": [
    "from sklearn.metrics import accuracy_score, f1_score\n",
    "\n",
    "# DecisionTreeClassifier\n",
    "DTL_accuracy = accuracy_score(y_test_set, DTL_prediction)\n",
    "DTL_f1 = f1_score(y_test_set, DTL_prediction)\n",
    "\n",
    "# Id3Estimator\n",
    "id3_accuracy = accuracy_score(y_test_set, id3_prediction)\n",
    "id3_f1 = f1_score(y_test_set, id3_prediction)\n",
    "\n",
    "# K Means\n",
    "kmeans_accuracy = accuracy_score(y_test_set, kmeans_prediction)\n",
    "kmeans_f1 = f1_score(y_test_set, kmeans_prediction)\n",
    "\n",
    "# LogisticRegression\n",
    "logistic_accuracy = accuracy_score(y_test_set, logistic_prediction)\n",
    "logistic_f1 = f1_score(y_test_set, logistic_prediction)\n",
    "\n",
    "# Neural_network\n",
    "neural_accuracy = accuracy_score(y_test_set, neural_prediction)\n",
    "neural_f1 = f1_score(y_test_set, neural_prediction)\n",
    "\n",
    "# SVM\n",
    "svm_accuracy = accuracy_score(y_test_set, svm_prediction)\n",
    "svm_f1 = f1_score(y_test_set, svm_prediction)\n",
    "\n",
    "accuracyAll = [DTL_accuracy, id3_accuracy, kmeans_accuracy, logistic_accuracy, neural_accuracy, svm_accuracy]\n",
    "f1All = [DTL_f1, id3_f1, kmeans_f1, logistic_f1, neural_f1, svm_f1]\n",
    "score_dataAll = {'accuracy': accuracyAll, 'f1': f1All}\n",
    "allScore = pd.DataFrame(data = score_dataAll, index=['DecisionTreeClassifier', 'Id3Estimator', 'KMeans', 'LogisticRegression', 'Neural_Network', 'SVM'])\n",
    "allScore"
   ]
  },
  {
   "cell_type": "markdown",
   "metadata": {},
   "source": [
    "## Dataset Play-tennis"
   ]
  },
  {
   "cell_type": "markdown",
   "metadata": {},
   "source": [
    "### Load Dataset"
   ]
  },
  {
   "cell_type": "code",
   "execution_count": 158,
   "metadata": {},
   "outputs": [],
   "source": [
    "import pandas as pd\n",
    "\n",
    "dataset_play_tennis = pd.read_csv(\"PlayTennis.csv\")\n",
    "dataset_play_tennis_data = dataset_play_tennis[{'Outlook', 'Temperature', 'Humidity', 'Wind'}]\n",
    "dataset_play_tennis_target = dataset_play_tennis[{'Play Tennis'}]\n",
    "\n",
    "# dataset_play_tennis_target\n",
    "# dataset_play_tennis_data"
   ]
  },
  {
   "cell_type": "markdown",
   "metadata": {},
   "source": [
    "### Label Encoder\n",
    "\n",
    "##### Humidity : 0 = \"High\", 1 = \"Normal\"\n",
    "##### Temperature : 0 = \"Cool\", 1 = \"Hot\", 2 = \"Mild\"\n",
    "##### Outlook : 0 = \"Overcast\", 1 = \"Rain\", 2 = \"Sunny\"\n",
    "##### Wind : 0 = \"Strong\", 1 = \"Weak\"\n",
    "##### Play Tennis : 0 = \"No\", 1 = \"Yes\""
   ]
  },
  {
   "cell_type": "code",
   "execution_count": 159,
   "metadata": {},
   "outputs": [],
   "source": [
    "from sklearn.preprocessing import LabelEncoder\n",
    "\n",
    "le = LabelEncoder()\n",
    "\n",
    "x_data_encoded = dataset_play_tennis_data.copy()\n",
    "if dataset_play_tennis_data is not None:\n",
    "    for column in dataset_play_tennis_data.columns:\n",
    "        x_data_encoded[column] = le.fit_transform(x_data_encoded[column])\n",
    "\n",
    "y_target_encoded = dataset_play_tennis_target.copy()\n",
    "if dataset_play_tennis_target is not None:\n",
    "    for column in dataset_play_tennis_target.columns:\n",
    "        y_target_encoded[column] = le.fit_transform(y_target_encoded[column]) "
   ]
  },
  {
   "cell_type": "markdown",
   "metadata": {},
   "source": [
    "### Splitting Data"
   ]
  },
  {
   "cell_type": "code",
   "execution_count": 160,
   "metadata": {},
   "outputs": [],
   "source": [
    "from sklearn.model_selection import train_test_split\n",
    "\n",
    "x_train, x_test, y_train, y_test = train_test_split(x_data_encoded, y_target_encoded, test_size=0.2, random_state=1)"
   ]
  },
  {
   "cell_type": "markdown",
   "metadata": {},
   "source": [
    "### Training Dataset\n",
    "#### a. DecisionTreeClassifier"
   ]
  },
  {
   "cell_type": "code",
   "execution_count": 272,
   "metadata": {},
   "outputs": [
    {
     "name": "stdout",
     "output_type": "stream",
     "text": [
      "|--- Outlook <= 0.50\n",
      "|   |--- class: 1\n",
      "|--- Outlook >  0.50\n",
      "|   |--- Humidity <= 0.50\n",
      "|   |   |--- class: 0\n",
      "|   |--- Humidity >  0.50\n",
      "|   |   |--- Wind <= 0.50\n",
      "|   |   |   |--- Outlook <= 1.50\n",
      "|   |   |   |   |--- class: 0\n",
      "|   |   |   |--- Outlook >  1.50\n",
      "|   |   |   |   |--- class: 1\n",
      "|   |   |--- Wind >  0.50\n",
      "|   |   |   |--- class: 1\n",
      "\n"
     ]
    }
   ],
   "source": [
    "from sklearn.tree import DecisionTreeClassifier\n",
    "\n",
    "model_pandas = DecisionTreeClassifier(max_depth = 10)\n",
    "\n",
    "model_pandas.fit(x_train, y_train)\n",
    "\n",
    "array_feature_name = []\n",
    "for i in range(len(dataset_play_tennis_data.columns)):\n",
    "    array_feature_name.append(dataset_play_tennis_data.columns[i])\n",
    "    \n",
    "DTL_prediction = model_pandas.predict(x_test)\n",
    "    \n",
    "r = export_text(model_pandas, feature_names=array_feature_name)\n",
    "print(r)"
   ]
  },
  {
   "cell_type": "markdown",
   "metadata": {},
   "source": [
    "#### b. Id3Estimator"
   ]
  },
  {
   "cell_type": "code",
   "execution_count": 271,
   "metadata": {},
   "outputs": [],
   "source": [
    "from id3 import Id3Estimator\n",
    "\n",
    "model_id3_pandas = Id3Estimator()\n",
    "model_id3_pandas = model_id3_pandas.fit(x_train, y_train.values.ravel())\n",
    "\n",
    "id3_prediction = model_id3_pandas.predict(x_test)"
   ]
  },
  {
   "cell_type": "markdown",
   "metadata": {},
   "source": [
    "#### c. K Means"
   ]
  },
  {
   "cell_type": "code",
   "execution_count": 270,
   "metadata": {},
   "outputs": [],
   "source": [
    "from sklearn.cluster import KMeans\n",
    "\n",
    "model_kmeans_pandas = KMeans(n_clusters=2, random_state=0)\n",
    "\n",
    "model_kmeans_pandas.fit(x_train)\n",
    "\n",
    "kmeans_prediction = model_kmeans_pandas.predict(x_test)"
   ]
  },
  {
   "cell_type": "markdown",
   "metadata": {},
   "source": [
    "#### d. LogisticRegression"
   ]
  },
  {
   "cell_type": "code",
   "execution_count": 273,
   "metadata": {},
   "outputs": [],
   "source": [
    "from sklearn.linear_model import LogisticRegression\n",
    "\n",
    "model_logistic_pandas = LogisticRegression(max_iter=10000)\n",
    "\n",
    "model_logistic_pandas.fit(x_train, y_train.values.ravel())\n",
    "\n",
    "logistic_prediction = model_logistic_pandas.predict(x_test)"
   ]
  },
  {
   "cell_type": "markdown",
   "metadata": {},
   "source": [
    "#### e. Neural_network"
   ]
  },
  {
   "cell_type": "code",
   "execution_count": 268,
   "metadata": {},
   "outputs": [],
   "source": [
    "from sklearn.neural_network import MLPClassifier\n",
    "from sklearn.datasets import make_classification\n",
    "from sklearn.model_selection import train_test_split\n",
    "\n",
    "clf_pandas = MLPClassifier(random_state=1, max_iter=700).fit(x_train, y_train.values.ravel())\n",
    "\n",
    "neural_prediction = clf_pandas.predict(x_test)"
   ]
  },
  {
   "cell_type": "markdown",
   "metadata": {},
   "source": [
    "#### f. SVM"
   ]
  },
  {
   "cell_type": "code",
   "execution_count": 274,
   "metadata": {},
   "outputs": [],
   "source": [
    "from sklearn.pipeline import make_pipeline\n",
    "from sklearn.preprocessing import StandardScaler\n",
    "from sklearn.svm import SVC\n",
    "\n",
    "model_svm_pandas = make_pipeline(StandardScaler(), SVC(gamma='auto'))\n",
    "\n",
    "model_svm_pandas.fit(x_train, y_train.values.ravel())\n",
    "\n",
    "svm_prediction = model_svm_pandas.predict(x_test)"
   ]
  },
  {
   "cell_type": "markdown",
   "metadata": {},
   "source": [
    "### Accuracy and F1-Score Table"
   ]
  },
  {
   "cell_type": "code",
   "execution_count": 276,
   "metadata": {},
   "outputs": [
    {
     "data": {
      "text/html": [
       "<div>\n",
       "<style scoped>\n",
       "    .dataframe tbody tr th:only-of-type {\n",
       "        vertical-align: middle;\n",
       "    }\n",
       "\n",
       "    .dataframe tbody tr th {\n",
       "        vertical-align: top;\n",
       "    }\n",
       "\n",
       "    .dataframe thead th {\n",
       "        text-align: right;\n",
       "    }\n",
       "</style>\n",
       "<table border=\"1\" class=\"dataframe\">\n",
       "  <thead>\n",
       "    <tr style=\"text-align: right;\">\n",
       "      <th></th>\n",
       "      <th>accuracy</th>\n",
       "      <th>f1</th>\n",
       "    </tr>\n",
       "  </thead>\n",
       "  <tbody>\n",
       "    <tr>\n",
       "      <th>DecisionTreeClassifier</th>\n",
       "      <td>0.666667</td>\n",
       "      <td>0.666667</td>\n",
       "    </tr>\n",
       "    <tr>\n",
       "      <th>Id3Estimator</th>\n",
       "      <td>0.666667</td>\n",
       "      <td>0.666667</td>\n",
       "    </tr>\n",
       "    <tr>\n",
       "      <th>KMeans</th>\n",
       "      <td>1.000000</td>\n",
       "      <td>1.000000</td>\n",
       "    </tr>\n",
       "    <tr>\n",
       "      <th>LogisticRegression</th>\n",
       "      <td>0.666667</td>\n",
       "      <td>0.800000</td>\n",
       "    </tr>\n",
       "    <tr>\n",
       "      <th>Neural_Network</th>\n",
       "      <td>1.000000</td>\n",
       "      <td>1.000000</td>\n",
       "    </tr>\n",
       "    <tr>\n",
       "      <th>SVM</th>\n",
       "      <td>1.000000</td>\n",
       "      <td>1.000000</td>\n",
       "    </tr>\n",
       "  </tbody>\n",
       "</table>\n",
       "</div>"
      ],
      "text/plain": [
       "                        accuracy        f1\n",
       "DecisionTreeClassifier  0.666667  0.666667\n",
       "Id3Estimator            0.666667  0.666667\n",
       "KMeans                  1.000000  1.000000\n",
       "LogisticRegression      0.666667  0.800000\n",
       "Neural_Network          1.000000  1.000000\n",
       "SVM                     1.000000  1.000000"
      ]
     },
     "execution_count": 276,
     "metadata": {},
     "output_type": "execute_result"
    }
   ],
   "source": [
    "from sklearn.metrics import accuracy_score, f1_score\n",
    "\n",
    "# DecisionTreeClassifier\n",
    "DTL_accuracy = accuracy_score(y_test, DTL_prediction)\n",
    "DTL_f1 = f1_score(y_test, DTL_prediction)\n",
    "\n",
    "# Id3Estimator\n",
    "id3_accuracy = accuracy_score(y_test, id3_prediction)\n",
    "id3_f1 = f1_score(y_test, id3_prediction)\n",
    "\n",
    "# K Means\n",
    "kmeans_accuracy = accuracy_score(y_test, kmeans_prediction)\n",
    "kmeans_f1 = f1_score(y_test, kmeans_prediction)\n",
    "\n",
    "# LogisticRegression\n",
    "logistic_accuracy = accuracy_score(y_test, logistic_prediction)\n",
    "logistic_f1 = f1_score(y_test, logistic_prediction)\n",
    "\n",
    "# Neural_network\n",
    "neural_accuracy = accuracy_score(y_test, neural_prediction)\n",
    "neural_f1 = f1_score(y_test, neural_prediction)\n",
    "\n",
    "# SVM\n",
    "svm_accuracy = accuracy_score(y_test, svm_prediction)\n",
    "svm_f1 = f1_score(y_test, svm_prediction)\n",
    "\n",
    "accuracyAll = [DTL_accuracy, id3_accuracy, kmeans_accuracy, logistic_accuracy, neural_accuracy, svm_accuracy]\n",
    "f1All = [DTL_f1, id3_f1, kmeans_f1, logistic_f1, neural_f1, svm_f1]\n",
    "score_dataAll = {'accuracy': accuracyAll, 'f1': f1All}\n",
    "allScore = pd.DataFrame(data = score_dataAll, index=['DecisionTreeClassifier', 'Id3Estimator', 'KMeans', 'LogisticRegression', 'Neural_Network', 'SVM'])\n",
    "allScore"
   ]
  }
 ],
 "metadata": {
  "kernelspec": {
   "display_name": "Python 3",
   "language": "python",
   "name": "python3"
  },
  "language_info": {
   "codemirror_mode": {
    "name": "ipython",
    "version": 3
   },
   "file_extension": ".py",
   "mimetype": "text/x-python",
   "name": "python",
   "nbconvert_exporter": "python",
   "pygments_lexer": "ipython3",
   "version": "3.8.5"
  }
 },
 "nbformat": 4,
 "nbformat_minor": 4
}
